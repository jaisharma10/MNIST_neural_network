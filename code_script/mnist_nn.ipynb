{
 "cells": [
  {
   "cell_type": "markdown",
   "metadata": {},
   "source": [
    "# Neural Network on MNIST dataSet\n",
    "### 1 vs 5 Classification"
   ]
  },
  {
   "cell_type": "markdown",
   "metadata": {},
   "source": [
    "Import Libraries"
   ]
  },
  {
   "cell_type": "code",
   "execution_count": 24,
   "metadata": {},
   "outputs": [],
   "source": [
    "import numpy as np\n",
    "import pandas as pd \n",
    "import matplotlib.pyplot as plt"
   ]
  },
  {
   "cell_type": "markdown",
   "metadata": {},
   "source": [
    "Extract Data from csv files"
   ]
  },
  {
   "cell_type": "code",
   "execution_count": 25,
   "metadata": {},
   "outputs": [],
   "source": [
    "train_path = \"Data/train_pr4.csv\"\n",
    "data = pd.read_csv(train_path)"
   ]
  },
  {
   "cell_type": "code",
   "execution_count": 26,
   "metadata": {},
   "outputs": [
    {
     "name": "stdout",
     "output_type": "stream",
     "text": [
      "Input DataSet Shape: (12163, 785)\n",
      "(12163,)\n",
      "(784,)\n"
     ]
    }
   ],
   "source": [
    "data = np.array(data)    # keep data in array form\n",
    "m,n = data.shape\n",
    "np.random.shuffle(data)  # shuffle data\n",
    "\n",
    "print(\"Input DataSet Shape:\", data.shape)\n",
    "\n",
    "# Training data features and labels\n",
    "data_train = data.T\n",
    "y = data_train[0]      # features\n",
    "X = data_train[1:n]    # labels\n",
    "X = X / 255.\n",
    "\n",
    "print(y.shape)\n",
    "print(X[:,0].shape)"
   ]
  },
  {
   "cell_type": "markdown",
   "metadata": {},
   "source": [
    "Initialize Parameters"
   ]
  },
  {
   "cell_type": "code",
   "execution_count": 27,
   "metadata": {},
   "outputs": [],
   "source": [
    "\n",
    "def randParams():\n",
    "    \"\"\"\n",
    "    get randomized initial weight and bias parameters\n",
    "    for hidden Layer 1 and hidden Layer 2\n",
    "    \"\"\"\n",
    "    n = 10 # predict out of 10 possible features [0 to 9]\n",
    "    W1 = np.random.rand(n, 784) - 0.5\n",
    "    b1 = np.random.rand(n, 1) - 0.5\n",
    "    W2 = np.random.rand(n, n) - 0.5\n",
    "    b2 = np.random.rand(n, 1) - 0.5\n",
    "\n",
    "    return(W1, b1, W2, b2)\n",
    "\n",
    "def ReLU(Z):\n",
    "    \"\"\" \n",
    "    ReLU activation function \n",
    "    output (-ve become 0)\n",
    "    \"\"\"\n",
    "    return(np.maximum(Z,0))\n",
    "\n",
    "def dReLU(Z):\n",
    "    \"\"\" \n",
    "    differential of ReLU function\n",
    "    if Z>0 --> gradient is 1\n",
    "    else   --> gradient is 0\n",
    "    \"\"\"\n",
    "    return(Z > 0)\n",
    "\n",
    "def softmax(Z):\n",
    "    \"\"\"\n",
    "    compute softmax score\n",
    "    output probabilities\n",
    "    \"\"\"\n",
    "    ex = np.exp(Z)\n",
    "    return(ex/sum(ex))\n",
    "\n",
    "def forward_pass(W1, b1, W2, b2, X):\n",
    "    \"\"\"\n",
    "    execute forward pass --> get loss\n",
    "    activation layer is ReLU\n",
    "    final layer, loss function, is Softmax\n",
    "    \"\"\"\n",
    "    Z1 = W1.dot(X) + b1\n",
    "    A1 = ReLU(Z1)\n",
    "    \n",
    "    Z2 = W2.dot(A1) + b2\n",
    "    A2 = softmax(Z2)  \n",
    "    \n",
    "    return(Z1,A1,Z2,A2)\n",
    "\n",
    "\n",
    "def one_hot(Y):\n",
    "    \"\"\"\n",
    "    one hot the labels\n",
    "    build an array of 0s, only sepceified label is 1\n",
    "    \"\"\"\n",
    "    one_hot_Y = np.zeros((Y.size, Y.max() + 5))\n",
    "    # one_hot_Y = np.zeros((Y.size, Y.max() + 1))\n",
    "    one_hot_Y[np.arange(Y.size), Y] = 1\n",
    "    one_hot_Y = one_hot_Y.T\n",
    "    return(one_hot_Y)\n",
    "\n",
    "def backward_pass(Z1, A1, Z2, A2, W1, W2, X, Y):\n",
    "    \"\"\"\n",
    "    execute backwards pass --> get adjusted weights by calculating gradient losses\n",
    "    requires cache values from forward pass\n",
    "    \"\"\"\n",
    "    m = Y.size                # size of dataset\n",
    "    one_hot_y = one_hot(Y)\n",
    "    \n",
    "    # gradient losses for layer 2 parameters\n",
    "    dZ2 = A2 - one_hot_y\n",
    "    dW2 = 1 / m * dZ2.dot(A1.T)\n",
    "    db2 = 1 / m * np.sum(dZ2)\n",
    "    \n",
    "    # gradient losses for layer 1 parameters\n",
    "    dZ1 =  W2.T.dot(dZ2) * dReLU(Z1)\n",
    "    dW1 = 1 / m * dZ1.dot(X.T)\n",
    "    db1 = 1 / m * np.sum(dZ1)\n",
    "\n",
    "    return(dW1, db1, dW2, db2)\n",
    "\n",
    "def update_params(W1, b1, W2, b2, dW1, db1, dW2, db2, alpha):\n",
    "    \"\"\"\n",
    "    compute updated weights and biases for next forward pass\n",
    "    \"\"\"\n",
    "    W1 = W1 - alpha * dW1\n",
    "    b1 = b1 - alpha * db1\n",
    "    W2 = W2 - alpha * dW2\n",
    "    b2 = b2 - alpha * db2\n",
    "    return(W1, b1, W2, b2)\n",
    "\n"
   ]
  },
  {
   "cell_type": "code",
   "execution_count": 28,
   "metadata": {},
   "outputs": [],
   "source": [
    "def predict(A2):\n",
    "    \"\"\"\n",
    "    after softmax step, extraxt label value with highest probability\n",
    "    \"\"\"\n",
    "    return(np.argmax(A2,0))\n",
    "\n",
    "def accuracy(p, Y):\n",
    "    \"\"\"\n",
    "    measure accuracy --> correctly predicted labels / dataset size\n",
    "    \"\"\"\n",
    "    acc = np.sum(p == Y) / Y.size\n",
    "    return(acc)\n",
    "\n",
    "def gradient_descent(X,Y,lr,iterations):\n",
    "    \"\"\"\n",
    "    get initial parameters and run forward_prop --> backward_prop loop\n",
    "    \"\"\"\n",
    "    accList = []\n",
    "    W1, b1, W2, b2 = randParams()\n",
    "    for i in range(iterations):\n",
    "        Z1,A1,Z2,A2 = forward_pass(W1, b1, W2, b2, X)\n",
    "        dW1, db1, dW2, db2 = backward_pass(Z1, A1, Z2, A2, W1, W2, X, Y)\n",
    "        W1, b1, W2, b2 = update_params(W1, b1, W2, b2, dW1, db1, dW2, db2, lr)\n",
    "        acc_val = accuracy(predict(A2), Y)\n",
    "        accList.append(acc_val*100)\n",
    "        if i % 25 == 0:\n",
    "            print(\"=======================================\")\n",
    "            print(\"Number of Epochs -->\", i)\n",
    "            print(\"Accuracy: \", round(acc_val*100,3))\n",
    "    return(W1, b1, W2, b2, accList)\n",
    "\n"
   ]
  },
  {
   "cell_type": "markdown",
   "metadata": {},
   "source": [
    "# Neural Network on Training Set"
   ]
  },
  {
   "cell_type": "code",
   "execution_count": 29,
   "metadata": {},
   "outputs": [
    {
     "name": "stdout",
     "output_type": "stream",
     "text": [
      "=======================================\n",
      "Number of Epochs --> 0\n",
      "Accuracy:  1.077\n",
      "=======================================\n",
      "Number of Epochs --> 25\n",
      "Accuracy:  97.69\n",
      "=======================================\n",
      "Number of Epochs --> 50\n",
      "Accuracy:  98.339\n",
      "=======================================\n",
      "Number of Epochs --> 75\n",
      "Accuracy:  98.561\n"
     ]
    }
   ],
   "source": [
    "iterations = 100\n",
    "lr = 0.10\n",
    "\n",
    "W1, b1, W2, b2, accList = gradient_descent(X,y,lr,iterations)"
   ]
  },
  {
   "cell_type": "markdown",
   "metadata": {},
   "source": [
    "Visualize Training Accuracy with Iterations"
   ]
  },
  {
   "cell_type": "code",
   "execution_count": 30,
   "metadata": {},
   "outputs": [
    {
     "name": "stdout",
     "output_type": "stream",
     "text": [
      "Training Accuracy -->  98.685  %\n"
     ]
    },
    {
     "data": {
      "image/png": "[encoded data removed]",
      "text/plain": [
       "<Figure size 640x480 with 1 Axes>"
      ]
     },
     "metadata": {},
     "output_type": "display_data"
    }
   ],
   "source": [
    "itList = np.arange(1,iterations+1)\n",
    "\n",
    "plt.plot(itList,accList)\n",
    "# general plot formatting\n",
    "plt.xlabel(\"Epochs\")\n",
    "plt.ylabel(\"Accuracy [%]\")\n",
    "plt.title(\"Neural Network Training Accuracy\")\n",
    "\n",
    "print(\"Training Accuracy --> \", round(accList[-1],3), \" %\")"
   ]
  },
  {
   "cell_type": "markdown",
   "metadata": {},
   "source": [
    "Sample Prediction Results"
   ]
  },
  {
   "cell_type": "code",
   "execution_count": 31,
   "metadata": {},
   "outputs": [
    {
     "name": "stdout",
     "output_type": "stream",
     "text": [
      "Predicted Label  5\n",
      "True Label:  5\n"
     ]
    },
    {
     "data": {
      "image/png": "[encoded data removed]",
      "text/plain": [
       "<Figure size 200x200 with 1 Axes>"
      ]
     },
     "metadata": {},
     "output_type": "display_data"
    },
    {
     "name": "stdout",
     "output_type": "stream",
     "text": [
      "Predicted Label  5\n",
      "True Label:  5\n"
     ]
    },
    {
     "data": {
      "image/png": "[encoded data removed]",
      "text/plain": [
       "<Figure size 200x200 with 1 Axes>"
      ]
     },
     "metadata": {},
     "output_type": "display_data"
    },
    {
     "name": "stdout",
     "output_type": "stream",
     "text": [
      "Predicted Label  5\n",
      "True Label:  5\n"
     ]
    },
    {
     "data": {
      "image/png": "[encoded data removed]",
      "text/plain": [
       "<Figure size 200x200 with 1 Axes>"
      ]
     },
     "metadata": {},
     "output_type": "display_data"
    },
    {
     "name": "stdout",
     "output_type": "stream",
     "text": [
      "Predicted Label  5\n",
      "True Label:  5\n"
     ]
    },
    {
     "data": {
      "image/png": "[encoded data removed]",
      "text/plain": [
       "<Figure size 200x200 with 1 Axes>"
      ]
     },
     "metadata": {},
     "output_type": "display_data"
    }
   ],
   "source": [
    "\n",
    "def test_prediction(idx, W1, b1, W2, b2, X, Y, output = False):\n",
    "    \"\"\"\n",
    "    makes prediction for any input digit image\n",
    "    run a forward pass using learned weights and biases\n",
    "    \"\"\"\n",
    "    img_X = X[:, idx, None]        # get 784 pixels, as array 784x1\n",
    "    _,_,_,A2 = forward_pass(W1, b1, W2, b2, img_X)   \n",
    "    y_pred = predict(A2)\n",
    "\n",
    "    if output == True:\n",
    "        print(\"Predicted Label \", y_pred[0])\n",
    "        print(\"True Label: \", Y[idx])\n",
    "        # plot Image\n",
    "        img = img_X.reshape((28, 28)) * 255\n",
    "        f = plt.figure()\n",
    "        f.set_figwidth(2)\n",
    "        f.set_figheight(2)\n",
    "        plt.gray()\n",
    "        plt.imshow(img)\n",
    "        plt.show()\n",
    "        \n",
    "    return(None)\n",
    "\n",
    "# make prediction using learned parameters W1, b1, W2, b2\n",
    "test_prediction( 111, W1, b1, W2, b2, X, y, output = True)\n",
    "test_prediction(2222, W1, b1, W2, b2, X, y, output = True)\n",
    "test_prediction(5555, W1, b1, W2, b2, X, y, output = True)\n",
    "test_prediction(8888, W1, b1, W2, b2, X, y, output = True)"
   ]
  },
  {
   "cell_type": "markdown",
   "metadata": {},
   "source": [
    "# Neural Network on Test Set"
   ]
  },
  {
   "cell_type": "code",
   "execution_count": 32,
   "metadata": {},
   "outputs": [
    {
     "name": "stdout",
     "output_type": "stream",
     "text": [
      "Input Dataset Shape: (2027, 785)\n",
      "(2027,)\n",
      "(784,)\n"
     ]
    }
   ],
   "source": [
    "test_path = \"Data/test_pr4.csv\"\n",
    "data = pd.read_csv(test_path)\n",
    "\n",
    "data = np.array(data)    # keep data in array form\n",
    "m,n = data.shape\n",
    "np.random.shuffle(data)  # shuffle data\n",
    "\n",
    "print(\"Input Dataset Shape:\", data.shape)\n",
    "\n",
    "# Training data features and labels\n",
    "data_train = data.T\n",
    "y = data_train[0]      # features\n",
    "X = data_train[1:n]    # labels\n",
    "X = X / 255.\n",
    "\n",
    "print(y.shape)\n",
    "print(X[:,0].shape)\n"
   ]
  },
  {
   "cell_type": "code",
   "execution_count": 33,
   "metadata": {},
   "outputs": [
    {
     "name": "stdout",
     "output_type": "stream",
     "text": [
      "Testing Accuracy -->  98.915  %\n"
     ]
    }
   ],
   "source": [
    "count = 0\n",
    "\n",
    "for idx in range(m):\n",
    "    img_X = X[:, idx, None]        # get 784 pixels, as array 784x1\n",
    "    _,_,_,A2 = forward_pass(W1, b1, W2, b2, img_X)   \n",
    "    y_pred = predict(A2)\n",
    "    if y_pred[0] == y[idx]:\n",
    "        count += 1\n",
    "        \n",
    "print(\"Testing Accuracy --> \", round(count*100/m,3), \" %\")\n"
   ]
  },
  {
   "cell_type": "markdown",
   "metadata": {},
   "source": [
    "Sample Prediction Results"
   ]
  },
  {
   "cell_type": "code",
   "execution_count": 34,
   "metadata": {},
   "outputs": [
    {
     "name": "stdout",
     "output_type": "stream",
     "text": [
      "Predicted Label  1\n",
      "True Label:  1\n"
     ]
    },
    {
     "data": {
      "image/png": "[encoded data removed]",
      "text/plain": [
       "<Figure size 200x200 with 1 Axes>"
      ]
     },
     "metadata": {},
     "output_type": "display_data"
    },
    {
     "name": "stdout",
     "output_type": "stream",
     "text": [
      "Predicted Label  1\n",
      "True Label:  1\n"
     ]
    },
    {
     "data": {
      "image/png": "[encoded data removed]",
      "text/plain": [
       "<Figure size 200x200 with 1 Axes>"
      ]
     },
     "metadata": {},
     "output_type": "display_data"
    },
    {
     "name": "stdout",
     "output_type": "stream",
     "text": [
      "Predicted Label  1\n",
      "True Label:  1\n"
     ]
    },
    {
     "data": {
      "image/png": "[encoded data removed]",
      "text/plain": [
       "<Figure size 200x200 with 1 Axes>"
      ]
     },
     "metadata": {},
     "output_type": "display_data"
    },
    {
     "name": "stdout",
     "output_type": "stream",
     "text": [
      "Predicted Label  1\n",
      "True Label:  1\n"
     ]
    },
    {
     "data": {
      "image/png": "[encoded data removed]",
      "text/plain": [
       "<Figure size 200x200 with 1 Axes>"
      ]
     },
     "metadata": {},
     "output_type": "display_data"
    }
   ],
   "source": [
    "# make prediction using learned parameters W1, b1, W2, b2\n",
    "test_prediction(500, W1, b1, W2, b2, X, y, output = True)\n",
    "test_prediction(1000, W1, b1, W2, b2, X, y, output = True)\n",
    "test_prediction(1500, W1, b1, W2, b2, X, y, output = True)\n",
    "test_prediction(2000, W1, b1, W2, b2, X, y, output = True)"
   ]
  }
 ],
 "metadata": {
  "kernelspec": {
   "display_name": "Python 3.10.4 ('ml_env')",
   "language": "python",
   "name": "python3"
  },
  "language_info": {
   "codemirror_mode": {
    "name": "ipython",
    "version": 3
   },
   "file_extension": ".py",
   "mimetype": "text/x-python",
   "name": "python",
   "nbconvert_exporter": "python",
   "pygments_lexer": "ipython3",
   "version": "3.10.4"
  },
  "orig_nbformat": 4,
  "vscode": {
   "interpreter": {
    "hash": "9e9be2e68cb295c361abd1a53a85653cf92a0e7d31e816aee4dac2509103d9a5"
   }
  }
 },
 "nbformat": 4,
 "nbformat_minor": 2
}
